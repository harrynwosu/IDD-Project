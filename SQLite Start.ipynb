{
 "cells": [
  {
   "cell_type": "markdown",
   "id": "ac0cda90",
   "metadata": {},
   "source": []
  },
  {
   "cell_type": "code",
   "execution_count": 9,
   "id": "b97009b9",
   "metadata": {},
   "outputs": [],
   "source": [
    "import sqlite3\n",
    "import pandas as pd\n",
    "# Create/connect to database file\n",
    "conn = sqlite3.connect(\"service_providers.db\")  # This creates a database file\n",
    "cursor = conn.cursor()"
   ]
  },
  {
   "cell_type": "code",
   "execution_count": null,
   "id": "5f30e25f",
   "metadata": {},
   "outputs": [],
   "source": [
    "cursor.execute('''\n",
    "CREATE TABLE IF NOT EXISTS service_providers (\n",
    "    id INTEGER PRIMARY KEY AUTOINCREMENT,\n",
    "    provider_name TEXT,\n",
    "    street_address TEXT,\n",
    "    city TEXT,\n",
    "    county TEXT,\n",
    "    state TEXT,\n",
    "    zipcode TEXT,\n",
    "    phone_number TEXT,\n",
    "    service_type TEXT\n",
    ");\n",
    "''')\n",
    "conn.commit()"
   ]
  },
  {
   "cell_type": "code",
   "execution_count": 15,
   "id": "e4109257",
   "metadata": {},
   "outputs": [
    {
     "data": {
      "text/plain": [
       "804"
      ]
     },
     "execution_count": 15,
     "metadata": {},
     "output_type": "execute_result"
    }
   ],
   "source": [
    "df = pd.read_csv(\"combined_service_providers.csv\")\n",
    "\n",
    "# Rename columns to remove spaces\n",
    "df.columns = [\n",
    "    \"city\", \"county\", \"phone_number\", \"provider_name\", \n",
    "    \"state\", \"street_address\", \"zipcode\", \"service_type\"\n",
    "]\n",
    "\n",
    "# Insert into SQL table\n",
    "df.to_sql(\"service_providers\", conn, if_exists=\"append\", index=False)"
   ]
  },
  {
   "cell_type": "code",
   "execution_count": 16,
   "id": "7b4b54bc",
   "metadata": {},
   "outputs": [
    {
     "name": "stdout",
     "output_type": "stream",
     "text": [
      "(1, 'Cardinal Fence & Supply Inc', '1025 Industrial Dr.', 'Bensenville', 'DUPAGE', 'IL', '60106', '(630) 860-5188', 'Adaptive Equipment/Assitive Technology Services')\n",
      "(2, 'Covered in Comfort LLC', '13960 S King Rd', 'Homer Glen', 'Will', 'IL', '60491', '(708) 732-5297', 'Adaptive Equipment/Assitive Technology Services')\n",
      "(3, 'All American Acess & Mobility', '102 E DeYoung St Ste A', 'Marion', 'Williamson', 'IL', '62959', '(618) 889-6171', 'Adaptive Equipment/Assitive Technology Services')\n",
      "(4, 'TEC lab (a division of Trinity Services)', '101 Hempstead Place', 'Joliet', 'Will', 'IL', '60433', '(779) 702-5499', 'Adaptive Equipment/Assitive Technology Services')\n",
      "(5, '101 Mobility\\xa0- Naperville', '1701 Quincy Ave', 'Naperville', 'DUPAGE', 'IL', '60540', '(630) 524-0015', 'Adaptive Equipment/Assitive Technology Services')\n"
     ]
    }
   ],
   "source": [
    "# Verify insertion\n",
    "result = cursor.execute(\"SELECT * FROM service_providers LIMIT 5;\")\n",
    "for row in result.fetchall():\n",
    "    print(row)\n",
    "\n",
    "# Close connection\n",
    "conn.close()"
   ]
  }
 ],
 "metadata": {
  "kernelspec": {
   "display_name": "Python 3",
   "language": "python",
   "name": "python3"
  },
  "language_info": {
   "codemirror_mode": {
    "name": "ipython",
    "version": 3
   },
   "file_extension": ".py",
   "mimetype": "text/x-python",
   "name": "python",
   "nbconvert_exporter": "python",
   "pygments_lexer": "ipython3",
   "version": "3.12.1"
  }
 },
 "nbformat": 4,
 "nbformat_minor": 5
}
