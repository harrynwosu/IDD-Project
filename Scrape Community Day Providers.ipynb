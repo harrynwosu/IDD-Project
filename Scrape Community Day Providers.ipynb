{
 "cells": [
  {
   "cell_type": "markdown",
   "id": "c9c2b331",
   "metadata": {},
   "source": [
    "# Description \n",
    "\n",
    "This code retrieves a list of Community Day Providers from the IDHS site. \n",
    "\n",
    "Site Last Updated: 6/5/2024"
   ]
  },
  {
   "cell_type": "code",
   "execution_count": 1,
   "id": "b9178d87",
   "metadata": {},
   "outputs": [
    {
     "name": "stdout",
     "output_type": "stream",
     "text": [
      "200\n"
     ]
    }
   ],
   "source": [
    "import requests\n",
    "from bs4 import BeautifulSoup\n",
    "import pandas as pd\n",
    "\n",
    "url = 'https://www.dhs.state.il.us/page.aspx?item=57221' # This url is where the data is coming from\n",
    " \n",
    "response = requests.get(url)\n",
    " \n",
    "print(response.status_code)\n",
    "\n",
    "# 200 response means it can access the site"
   ]
  },
  {
   "cell_type": "markdown",
   "id": "9828970f",
   "metadata": {},
   "source": [
    "### Retrieving name, address, and phone number for each provider"
   ]
  },
  {
   "cell_type": "code",
   "execution_count": 2,
   "id": "ec691f06",
   "metadata": {},
   "outputs": [],
   "source": [
    "soup = BeautifulSoup(response.text, 'html.parser')"
   ]
  },
  {
   "cell_type": "code",
   "execution_count": 3,
   "id": "6b8882bc",
   "metadata": {},
   "outputs": [],
   "source": [
    "provider_table = soup.find('table')\n",
    "# print(provider_table)"
   ]
  },
  {
   "cell_type": "code",
   "execution_count": 4,
   "id": "ba672916",
   "metadata": {},
   "outputs": [],
   "source": [
    "for service_data in provider_table.find_all('tbody'):\n",
    "    rows = service_data.find_all('tr')\n",
    "  #  print(rows)"
   ]
  },
  {
   "cell_type": "code",
   "execution_count": 5,
   "id": "a0e541ee",
   "metadata": {},
   "outputs": [],
   "source": [
    "provider_data = []\n",
    "for row in rows[0:]:  # Skip the header\n",
    "    cells = row.find_all([\"th\", \"td\"])  # Find both <th> and <td> elements\n",
    "    provider = {\n",
    "        \"Provider Name\": cells[0].get_text(strip=True),   # First cell (Provider Name) is <th>\n",
    "        \"Street Address\": cells[1].get_text(strip=True),\n",
    "        \"City\": cells[2].get_text(strip=True),\n",
    "        \"State\": cells[3].get_text(strip=True),\n",
    "        \"Zipcode\": cells[4].get_text(strip=True),\n",
    "        \"County\": cells[5].get_text(strip=True),\n",
    "        \"Phone Number\": cells[6].get_text(strip=True)\n",
    "    }\n",
    "    provider_data.append(provider)\n",
    "\n",
    "# Convert to DataFrame\n",
    "providers = pd.DataFrame(provider_data)\n",
    "providers.to_csv(\"Illinois_Community_Day_Providers.csv\", index=False)"
   ]
  }
 ],
 "metadata": {
  "kernelspec": {
   "display_name": "Python 3",
   "language": "python",
   "name": "python3"
  },
  "language_info": {
   "codemirror_mode": {
    "name": "ipython",
    "version": 3
   },
   "file_extension": ".py",
   "mimetype": "text/x-python",
   "name": "python",
   "nbconvert_exporter": "python",
   "pygments_lexer": "ipython3",
   "version": "3.12.1"
  }
 },
 "nbformat": 4,
 "nbformat_minor": 5
}
