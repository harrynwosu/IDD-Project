{
 "cells": [
  {
   "cell_type": "code",
   "execution_count": 1,
   "id": "88fee421",
   "metadata": {},
   "outputs": [],
   "source": [
    "import requests\n",
    "from bs4 import BeautifulSoup\n",
    "import pandas as pd"
   ]
  },
  {
   "cell_type": "code",
   "execution_count": 2,
   "id": "b9178d87",
   "metadata": {},
   "outputs": [
    {
     "name": "stdout",
     "output_type": "stream",
     "text": [
      "200\n"
     ]
    }
   ],
   "source": [
    "url = 'https://www.dhs.state.il.us/OneNetLibrary/27896/documents/Scorecards/CILA-Quality-Scorecard-Data-2019-02-28.html'\n",
    " \n",
    "response = requests.get(url)\n",
    " \n",
    "print(response.status_code)\n",
    "\n",
    "# 200 response means it can access the site"
   ]
  },
  {
   "cell_type": "markdown",
   "id": "01b1ddd6",
   "metadata": {},
   "source": [
    "### Retrieving distinct service provider names"
   ]
  },
  {
   "cell_type": "code",
   "execution_count": 3,
   "id": "608158b6",
   "metadata": {},
   "outputs": [],
   "source": [
    "agency_soup = BeautifulSoup(response.text, 'html.parser')"
   ]
  },
  {
   "cell_type": "code",
   "execution_count": 4,
   "id": "ad2359e1",
   "metadata": {},
   "outputs": [],
   "source": [
    "table = agency_soup.find('table', id=\"AgencyTable\")\n",
    "# print(table)"
   ]
  },
  {
   "cell_type": "code",
   "execution_count": 5,
   "id": "f15a4d25",
   "metadata": {},
   "outputs": [],
   "source": [
    "for service_data in table.find_all('tbody'):\n",
    "    rows = service_data.find_all('tr')\n",
    "    # print(rows)"
   ]
  },
  {
   "cell_type": "code",
   "execution_count": 6,
   "id": "9ffc786f",
   "metadata": {},
   "outputs": [],
   "source": [
    "name_data = []\n",
    "for row in rows:\n",
    "    agency_name = row.find_all('th')[0].text\n",
    "    # print(agency_name)\n",
    "    name_data.append(agency_name)  \n",
    "\n",
    "df = pd.DataFrame(name_data)\n",
    "df.to_csv(\"idd_providers_illinois.csv\", index=False)"
   ]
  },
  {
   "cell_type": "markdown",
   "id": "9828970f",
   "metadata": {},
   "source": [
    "### Retrieving indistinct certified service providers with additional info"
   ]
  },
  {
   "cell_type": "code",
   "execution_count": 7,
   "id": "ec691f06",
   "metadata": {},
   "outputs": [],
   "source": [
    "detailed_agency_soup = BeautifulSoup(response.text, 'html.parser')"
   ]
  },
  {
   "cell_type": "code",
   "execution_count": 8,
   "id": "6b8882bc",
   "metadata": {},
   "outputs": [],
   "source": [
    "cila_table = detailed_agency_soup.find('table', id=\"CilaTable\")\n",
    "# print(cila_table)"
   ]
  },
  {
   "cell_type": "code",
   "execution_count": 9,
   "id": "ba672916",
   "metadata": {},
   "outputs": [],
   "source": [
    "for service_data in cila_table.find_all('tbody'):\n",
    "    rows = service_data.find_all('tr')\n",
    "#    print(rows)"
   ]
  },
  {
   "cell_type": "code",
   "execution_count": 10,
   "id": "11e642a9",
   "metadata": {},
   "outputs": [],
   "source": [
    "cila_data = []\n",
    "for row in rows[1:]:  # Skip the header\n",
    "    cells = row.find_all(\"td\")\n",
    "    provider = {\n",
    "        \"Name\": cells[0].get_text(strip=True),\n",
    "        \"Zipcode\": cells[1].get_text(strip=True),\n",
    "        \"CoEd\": cells[3].get_text(strip=True),\n",
    "        \"Wheelchair Access\": cells[6].get_text(strip=True),\n",
    "        \"24HR Support\": cells[7].get_text(strip=True)\n",
    "    }\n",
    "    cila_data.append(provider)\n",
    "\n",
    "# Convert to DataFrame\n",
    "detailed_df = pd.DataFrame(cila_data)\n",
    "detailed_df.to_csv(\"distinct_idd_providers_illinois.csv\", index=False)"
   ]
  }
 ],
 "metadata": {
  "kernelspec": {
   "display_name": "Python 3",
   "language": "python",
   "name": "python3"
  },
  "language_info": {
   "codemirror_mode": {
    "name": "ipython",
    "version": 3
   },
   "file_extension": ".py",
   "mimetype": "text/x-python",
   "name": "python",
   "nbconvert_exporter": "python",
   "pygments_lexer": "ipython3",
   "version": "3.12.1"
  }
 },
 "nbformat": 4,
 "nbformat_minor": 5
}
