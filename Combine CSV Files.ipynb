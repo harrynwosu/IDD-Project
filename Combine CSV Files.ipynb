{
 "cells": [
  {
   "cell_type": "markdown",
   "id": "f59608a7",
   "metadata": {},
   "source": [
    "### Description\n",
    "\n",
    "This combines multiple CSV files into one and add a column to indicate the type of service"
   ]
  },
  {
   "cell_type": "code",
   "execution_count": 2,
   "id": "8f8988ad",
   "metadata": {},
   "outputs": [
    {
     "name": "stdout",
     "output_type": "stream",
     "text": [
      "Combined data saved to combined_service_providers.csv\n"
     ]
    }
   ],
   "source": [
    "import pandas as pd\n",
    "import glob\n",
    "\n",
    "def combine_csv_with_service_types(file_type_mapping, output_file):\n",
    "    \"\"\"\n",
    "    Combine multiple CSV files into one and add a column indicating the type of service.\n",
    "    Handles rows belonging to multiple service types.\n",
    "\n",
    "    Parameters:\n",
    "        file_type_mapping (dict): A dictionary where keys are CSV file paths and values are the service types.\n",
    "        output_file (str): The name of the output CSV file.\n",
    "    \"\"\"\n",
    "    combined_data = pd.DataFrame()\n",
    "\n",
    "    for file, service_type in file_type_mapping.items():\n",
    "        # Read each CSV file\n",
    "        df = pd.read_csv(file)\n",
    "        \n",
    "        # Add a 'Service Type' column\n",
    "        df['Service Type'] = service_type\n",
    "        \n",
    "        # Combine with the main DataFrame\n",
    "        combined_data = pd.concat([combined_data, df], ignore_index=True)\n",
    "\n",
    "    # Group by unique rows and aggregate service types for duplicates\n",
    "    if 'Service Type' in combined_data.columns:\n",
    "        combined_data = (\n",
    "            combined_data\n",
    "            .groupby(list(combined_data.columns.difference(['Service Type'])), dropna=False)\n",
    "            .agg({'Service Type': lambda x: ', '.join(set(x))})\n",
    "            .reset_index()\n",
    "        )\n",
    "        \n",
    "    # Sort by Service Type\n",
    "    combined_data = combined_data.sort_values(by='Service Type')\n",
    "\n",
    "    # Save the combined data to a CSV file\n",
    "    combined_data.to_csv(output_file, index=False)\n",
    "    print(f\"Combined data saved to {output_file}\")\n",
    "\n",
    "# Example usage\n",
    "if __name__ == \"__main__\":\n",
    "    # Define a mapping of file paths to service types\n",
    "    file_type_mapping = {\n",
    "        \"webscraping outputs/Illinois_Adult_Day_Health_Providers.csv\": \"Adult Day Health Services\",\n",
    "        \"webscraping outputs/Illinois_AEAT_Providers.csv\": \"Adaptive Equipment/Assitive Technology Services\",\n",
    "        \"webscraping outputs/Illinois_Behavior_Intervention_Providers.csv\": \"Behavior Intervention and Treatment, Psychotherapy and Counseling Services\",\n",
    "        \"webscraping outputs/Illinois_CILA_Providers.csv\": \"Community Integrated Living Arrangement Services\",\n",
    "        \"webscraping outputs/Illinois_CLF_Providers.csv\": \"Community Living Facility Services\",\n",
    "        \"webscraping outputs/Illinois_Community_Day_Providers.csv\": \"Community Day Services\",\n",
    "        \"webscraping outputs/Illinois_Home_Vehicle_Mod_Providers.csv\": \"Home and Vehicle Modification Services\",\n",
    "        \"webscraping outputs/Illinois_ICF_Providers.csv\": \"Intermediate Care Facility Services\",\n",
    "    }\n",
    "    output_file = \"combined_service_providers.csv\"\n",
    "    \n",
    "    combine_csv_with_service_types(file_type_mapping, output_file)\n"
   ]
  }
 ],
 "metadata": {
  "kernelspec": {
   "display_name": "Python 3",
   "language": "python",
   "name": "python3"
  },
  "language_info": {
   "codemirror_mode": {
    "name": "ipython",
    "version": 3
   },
   "file_extension": ".py",
   "mimetype": "text/x-python",
   "name": "python",
   "nbconvert_exporter": "python",
   "pygments_lexer": "ipython3",
   "version": "3.12.1"
  }
 },
 "nbformat": 4,
 "nbformat_minor": 5
}
