{
 "cells": [
  {
   "cell_type": "code",
   "execution_count": 1,
   "id": "88fee421",
   "metadata": {},
   "outputs": [],
   "source": [
    "import requests\n",
    "from bs4 import BeautifulSoup\n",
    "import pandas as pd\n",
    "from fuzzywuzzy import fuzz\n",
    "import time"
   ]
  },
  {
   "cell_type": "code",
   "execution_count": 2,
   "id": "b9178d87",
   "metadata": {},
   "outputs": [
    {
     "name": "stdout",
     "output_type": "stream",
     "text": [
      "200\n"
     ]
    }
   ],
   "source": [
    "url = 'https://www.dhs.state.il.us/OneNetLibrary/27896/documents/Scorecards/CILA-Quality-Scorecard-Data-2019-02-28.html'\n",
    " \n",
    "response = requests.get(url)\n",
    " \n",
    "print(response.status_code)\n",
    "\n",
    "# 200 response means it can access the site"
   ]
  },
  {
   "cell_type": "markdown",
   "id": "01b1ddd6",
   "metadata": {},
   "source": [
    "### Retrieving distinct service provider names"
   ]
  },
  {
   "cell_type": "code",
   "execution_count": 3,
   "id": "608158b6",
   "metadata": {},
   "outputs": [],
   "source": [
    "agency_soup = BeautifulSoup(response.text, 'html.parser')"
   ]
  },
  {
   "cell_type": "code",
   "execution_count": 4,
   "id": "ad2359e1",
   "metadata": {},
   "outputs": [],
   "source": [
    "table = agency_soup.find('table', id=\"AgencyTable\")\n",
    "# print(table)"
   ]
  },
  {
   "cell_type": "code",
   "execution_count": 5,
   "id": "f15a4d25",
   "metadata": {},
   "outputs": [],
   "source": [
    "for service_data in table.find_all('tbody'):\n",
    "    rows = service_data.find_all('tr')\n",
    "    # print(rows)"
   ]
  },
  {
   "cell_type": "code",
   "execution_count": 6,
   "id": "9ffc786f",
   "metadata": {},
   "outputs": [],
   "source": [
    "name_data = []\n",
    "for row in rows:\n",
    "    agency_name = row.find_all('th')[0].text\n",
    "    # print(agency_name)\n",
    "    name_data.append(agency_name)  \n",
    "\n",
    "df = pd.DataFrame(name_data)\n",
    "df.to_csv(\"idd_providers_illinois.csv\", index=False)"
   ]
  },
  {
   "cell_type": "markdown",
   "id": "9828970f",
   "metadata": {},
   "source": [
    "### Retrieving indistinct certified service providers with additional info"
   ]
  },
  {
   "cell_type": "code",
   "execution_count": 7,
   "id": "ec691f06",
   "metadata": {},
   "outputs": [],
   "source": [
    "detailed_agency_soup = BeautifulSoup(response.text, 'html.parser')"
   ]
  },
  {
   "cell_type": "code",
   "execution_count": 8,
   "id": "6b8882bc",
   "metadata": {},
   "outputs": [],
   "source": [
    "cila_table = detailed_agency_soup.find('table', id=\"CilaTable\")\n",
    "# print(cila_table)"
   ]
  },
  {
   "cell_type": "code",
   "execution_count": 9,
   "id": "ba672916",
   "metadata": {},
   "outputs": [],
   "source": [
    "for service_data in cila_table.find_all('tbody'):\n",
    "    rows = service_data.find_all('tr')\n",
    "#    print(rows)"
   ]
  },
  {
   "cell_type": "code",
   "execution_count": 10,
   "id": "11e642a9",
   "metadata": {
    "tags": []
   },
   "outputs": [],
   "source": [
    "cila_data = []\n",
    "for row in rows[1:]:  # Skip the header\n",
    "    cells = row.find_all(\"td\")\n",
    "    provider = {\n",
    "        \"Name\": cells[0].get_text(strip=True),\n",
    "        \"Zipcode\": cells[1].get_text(strip=True),\n",
    "        \"CoEd\": cells[3].get_text(strip=True),\n",
    "        \"Wheelchair Access\": cells[6].get_text(strip=True),\n",
    "        \"24HR Support\": cells[7].get_text(strip=True)\n",
    "    }\n",
    "    cila_data.append(provider)\n",
    "\n",
    "# Convert to DataFrame\n",
    "detailed_df = pd.DataFrame(cila_data)\n",
    "detailed_df.to_csv(\"distinct_idd_providers_illinois.csv\", index=False)"
   ]
  },
  {
   "cell_type": "markdown",
   "id": "51526273-ef69-443f-8eea-6cbdeb5549ab",
   "metadata": {},
   "source": [
    "### Validating Providers"
   ]
  },
  {
   "cell_type": "code",
   "execution_count": 12,
   "id": "e9f927f8-00ff-4bf7-9935-158167f8c18d",
   "metadata": {
    "tags": []
   },
   "outputs": [],
   "source": [
    "providers = pd.read_csv(\"idd_providers_illinois.csv\")\n",
    "\n",
    "providers = providers.head(3)\n",
    "def search_provider_online(provider_name):\n",
    "    # Google Custom Search API endpoint (replace with actual keys)\n",
    "    search_url = f\"https://www.googleapis.com/customsearch/v1?key=CUSTOM_SEARCH_API_KEYw&cx=CUSTOM_SEARCH_ENGINE_ID&q={provider_name}\"\n",
    "    try:\n",
    "        response = requests.get(search_url)\n",
    "        response.raise_for_status()  # Check for HTTP errors\n",
    "        results = response.json().get(\"items\", [])\n",
    "        return results\n",
    "    except requests.exceptions.RequestException as e:\n",
    "        print(f\"Error during Google Search API request: {e}\")\n",
    "        return []\n",
    "\n",
    "def get_provider_details(provider_name):\n",
    "    # Yelp API endpoint (replace with actual key)\n",
    "    url = f\"https://api.yelp.com/v3/businesses/search?term={provider_name}&location=Illinois\"\n",
    "    headers = {\"Authorization\": \"Bearer {YELP_API_KEY}\"}\n",
    "    try:\n",
    "        response = requests.get(url, headers=headers)\n",
    "        response.raise_for_status()\n",
    "        return response.json()\n",
    "    except requests.exceptions.RequestException as e:\n",
    "        print(f\"Error during Yelp API request: {e}\")\n",
    "        return {}\n",
    "\n",
    "# Process each provider\n",
    "for index, row in providers.iterrows():\n",
    "    provider_name = row[\"0\"]\n",
    "    \n",
    "    # Step 1: Verify existence using fuzzy matching\n",
    "    search_results = search_provider_online(provider_name)\n",
    "    is_active = any(fuzz.partial_ratio(provider_name.lower(), result['title'].lower()) > 80 for result in search_results)\n",
    "    \n",
    "    # Step 2: Enrich information if active\n",
    "    if is_active:\n",
    "        details = get_provider_details(provider_name)\n",
    "        if \"businesses\" in details and len(details[\"businesses\"]) > 0:\n",
    "            business = details[\"businesses\"][0]  # Take the first result\n",
    "            providers.loc[index, \"Address\"] = business.get(\"location\", {}).get(\"address1\", \"\")\n",
    "            providers.loc[index, \"Phone\"] = business.get(\"phone\", \"\")\n",
    "            providers.loc[index, \"Yelp URL\"] = business.get(\"url\", \"\")\n",
    "    \n",
    "    # Delay to avoid rate limits\n",
    "    time.sleep(2)\n",
    "\n",
    "# Save updated providers data\n",
    "providers.to_csv(\"verified_and_enriched_providers.csv\", index=False)"
   ]
  },
  {
   "cell_type": "code",
   "execution_count": null,
   "id": "e1809ae7-f862-4789-bb41-6a453b9f3394",
   "metadata": {},
   "outputs": [],
   "source": []
  }
 ],
 "metadata": {
  "kernelspec": {
   "display_name": "Python 3 (ipykernel)",
   "language": "python",
   "name": "python3"
  },
  "language_info": {
   "codemirror_mode": {
    "name": "ipython",
    "version": 3
   },
   "file_extension": ".py",
   "mimetype": "text/x-python",
   "name": "python",
   "nbconvert_exporter": "python",
   "pygments_lexer": "ipython3",
   "version": "3.11.5"
  }
 },
 "nbformat": 4,
 "nbformat_minor": 5
}
