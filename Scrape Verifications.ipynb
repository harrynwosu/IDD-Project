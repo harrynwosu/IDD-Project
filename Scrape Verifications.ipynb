{
 "cells": [
  {
   "cell_type": "code",
   "execution_count": 1,
   "id": "2bf72ef7-e10b-4103-95fb-718ca13827a7",
   "metadata": {},
   "outputs": [],
   "source": [
    "import os\n",
    "import requests\n",
    "import time\n",
    "import pandas as pd\n",
    "from dotenv import load_dotenv"
   ]
  },
  {
   "cell_type": "code",
   "execution_count": 2,
   "id": "ba272d4f-ee0b-4a44-b6d1-f000bd0a041a",
   "metadata": {
    "tags": []
   },
   "outputs": [],
   "source": [
    "# Load API key from .env\n",
    "load_dotenv()\n",
    "API_KEY = os.getenv(\"GOOGLE_PLACES_API_KEY\")\n",
    "\n",
    "if API_KEY is None:\n",
    "    raise ValueError(\"API_KEY not found in the environment\")"
   ]
  },
  {
   "cell_type": "code",
   "execution_count": 3,
   "id": "4bd15f80-c42d-4b06-86a4-839f2e8ce019",
   "metadata": {},
   "outputs": [],
   "source": [
    "parent_folder = 'webscraping outputs'\n",
    "\n",
    "files = [\n",
    "    f'{parent_folder}/Illinois_Adult_Day_Health_Providers.csv',\n",
    "    f'{parent_folder}/Illinois_Behavior_Intervention_Providers.csv',\n",
    "    f'{parent_folder}/Illinois_CILA_Providers.csv',\n",
    "    f'{parent_folder}/Illinois_CLF_Providers.csv',\n",
    "    f'{parent_folder}/Illinois_Community_Day_Providers.csv',\n",
    "    f'{parent_folder}/Illinois_Home_Vehicle_Mod_Providers.csv',\n",
    "    f'{parent_folder}/Illinois_ICF_Providers.csv'\n",
    "]"
   ]
  },
  {
   "cell_type": "code",
   "execution_count": 4,
   "id": "7e668403-146b-411f-a575-46555652287a",
   "metadata": {
    "tags": []
   },
   "outputs": [],
   "source": [
    "# Read all CSV files with data we need to verify as dataframes, storing them in a single array\n",
    "dfs = []\n",
    "\n",
    "for file in files:\n",
    "    df = pd.read_csv(file)\n",
    "    dfs.append(df)"
   ]
  },
  {
   "cell_type": "code",
   "execution_count": 5,
   "id": "b503c403-5c15-49a2-8920-d3f6151ac249",
   "metadata": {},
   "outputs": [],
   "source": [
    "def find_provider_by_address_or_phone(address, phone_number):\n",
    "    base_url = 'https://maps.googleapis.com/maps/api/place/findplacefromtext/json'\n",
    "    \n",
    "    # Search by address\n",
    "    address_params = {\n",
    "        'input': address,\n",
    "        'inputtype': 'textquery',\n",
    "        'fields': 'place_id,name,formatted_address',\n",
    "        'key': API_KEY\n",
    "    }\n",
    "    \n",
    "    address_response = requests.get(base_url, params=address_params).json()\n",
    "    \n",
    "    # If a result is found by phone, return it\n",
    "    if address_response.get('status') == 'OK':\n",
    "        return address_response\n",
    "\n",
    "    # If no result is found, search by phone number\n",
    "    phone_params = {\n",
    "        'input': phone_number,\n",
    "        'inputtype': 'phonenumber',\n",
    "        'fields': 'place_id,name,formatted_phone_number',\n",
    "        'key': API_KEY\n",
    "    }\n",
    "    phone_response = requests.get(base_url, params=phone_params).json()\n",
    "\n",
    "    # Return the address response (may also return an empty result)\n",
    "    return address_response\n"
   ]
  },
  {
   "cell_type": "code",
   "execution_count": 6,
   "id": "74ea3223-3af2-47e4-a555-b16b4f13b971",
   "metadata": {},
   "outputs": [],
   "source": [
    "def verify_provider(provider_name, address, phone_number):\n",
    "    result = find_provider_by_address_or_phone(address, phone_number)\n",
    "    status = result.get('status')\n",
    "\n",
    "    if status == 'OK':\n",
    "        candidates = result.get('candidates', [])\n",
    "        for candidate in candidates:\n",
    "            candidate_name = candidate.get('name')\n",
    "            candidate_phone = candidate.get('formatted_phone_number')\n",
    "            if provider_name.lower().strip() in candidate_name.lower().strip() or candidate_name.lower().strip() in provider_name.lower().strip():\n",
    "                return True, candidate  # Place exists\n",
    "        return False, None  # Place not found\n",
    "    elif status == 'ZERO_RESULTS':\n",
    "        return False, None  # No matching places\n",
    "    else:\n",
    "        # Handle other possible statuses\n",
    "        print(f\"Error: {status}\")\n",
    "        return False, None"
   ]
  },
  {
   "cell_type": "code",
   "execution_count": 7,
   "id": "831f1df3-8404-4a77-992a-5f216d842cb8",
   "metadata": {
    "tags": []
   },
   "outputs": [
    {
     "name": "stdout",
     "output_type": "stream",
     "text": [
      "Place Not Found: ADVOCATE HEALTH AND HOSPITALS\n",
      "Place Verified: CATHOLIC CHARITIES OF THE ARCHDIOCESE OF CHICAGO\n",
      "Place Not Found: COMMUNITY ADULT DAY CENTER\n",
      "Place Not Found: EUROPEAN SERVICES AT HOME, INC\n",
      "Place Not Found: HEART TO HEART SERVICES INC\n",
      "Place Not Found: HUMAN RESOURCES OF EDGAR AND CLARK COUNTIES\n",
      "Place Not Found: PRESENCE LIFE CONNECTIONS\n"
     ]
    }
   ],
   "source": [
    "# Illinois_Adult_Day_Health_Providers.csv\n",
    "adult_day_health_df = dfs[0][dfs[0]['State'] == 'IL']\n",
    "verified_providers = []\n",
    "\n",
    "for index, row in adult_day_health_df.iterrows():\n",
    "    provider_name = row['Provider Name']\n",
    "    provider_address = row['Street Address']\n",
    "    provider_phone_number = row['Phone Number']\n",
    "\n",
    "    exists, data = verify_provider(provider_name, provider_address, provider_phone_number)\n",
    "\n",
    "    if exists:\n",
    "        verified_providers.append({\n",
    "            'Provider Name': provider_name,\n",
    "            'Address': provider_address,\n",
    "            'Phone Number': provider_phone_number,\n",
    "            'verified': exists,\n",
    "        })\n",
    "        print(f\"Place Verified: {provider_name}\")\n",
    "    else:\n",
    "        print(f\"Place Not Found: {provider_name}\")\n",
    "\n",
    "    # Sleep to respect rate limits\n",
    "    time.sleep(1)\n",
    "\n",
    "# Save results\n",
    "verified_df = pd.DataFrame(verified_providers)\n",
    "verified_df.to_csv('Verified_Illinois_Adult_Day_Health_Providers.csv', index=False)"
   ]
  },
  {
   "cell_type": "code",
   "execution_count": 8,
   "id": "958a1d2b-2267-4fab-8034-3efa30463f83",
   "metadata": {},
   "outputs": [
    {
     "name": "stdout",
     "output_type": "stream",
     "text": [
      "Place Not Found: AVENUES TO INDEPENDENCE\n",
      "Place Not Found: COMMUNITY WORKSHOP & TRAINING\n",
      "Place Not Found: CROSSPOINT HUMAN SERVICES\n",
      "Place Verified: GLENKIRK\n",
      "Place Not Found: LAMBS FARM\n",
      "Place Not Found: LITTLE CITY FOUNDATION\n",
      "Place Not Found: OPPORTUNITY HOUSE INC\n",
      "Place Verified: SHORE COMMUNITY SERVICES, INC\n",
      "Place Not Found: ST MARY OF PROVIDENCE SCHOOL\n"
     ]
    }
   ],
   "source": [
    "# Illinois_Adult_Day_Health_Providers.csv\n",
    "clf_df = dfs[3][dfs[3]['State'] == 'IL']\n",
    "verified_providers = []\n",
    "\n",
    "for index, row in clf_df.iterrows():\n",
    "    provider_name = row['Provider Name']\n",
    "    provider_address = row['Street Address']\n",
    "    provider_phone_number = row['Phone Number']\n",
    "\n",
    "    exists, data = verify_provider(provider_name, provider_address, provider_phone_number)\n",
    "\n",
    "    if exists:\n",
    "        verified_providers.append({\n",
    "            'Provider Name': provider_name,\n",
    "            'Address': provider_address,\n",
    "            'Phone Number': provider_phone_number,\n",
    "            'verified': exists,\n",
    "        })\n",
    "        print(f\"Place Verified: {provider_name}\")\n",
    "    else:\n",
    "        print(f\"Place Not Found: {provider_name}\")\n",
    "\n",
    "    # Sleep to respect rate limits\n",
    "    time.sleep(1)\n",
    "\n",
    "# Save results\n",
    "verified_df = pd.DataFrame(verified_providers)\n",
    "verified_df.to_csv('Verified_CLF_Providers.csv', index=False)"
   ]
  },
  {
   "cell_type": "code",
   "execution_count": null,
   "id": "910cf76e-6c99-469d-81e0-c28fcc18e4c3",
   "metadata": {},
   "outputs": [],
   "source": []
  }
 ],
 "metadata": {
  "kernelspec": {
   "display_name": "Python 3 (ipykernel)",
   "language": "python",
   "name": "python3"
  },
  "language_info": {
   "codemirror_mode": {
    "name": "ipython",
    "version": 3
   },
   "file_extension": ".py",
   "mimetype": "text/x-python",
   "name": "python",
   "nbconvert_exporter": "python",
   "pygments_lexer": "ipython3",
   "version": "3.11.5"
  }
 },
 "nbformat": 4,
 "nbformat_minor": 5
}
