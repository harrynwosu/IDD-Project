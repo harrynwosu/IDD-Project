{
 "cells": [
  {
   "cell_type": "markdown",
   "id": "2dc9588f",
   "metadata": {},
   "source": [
    "### Possible Solutions\n",
    "1. Use ILSOS site to validate businesses\n",
    "2. Automated Call/Email to providers asking for existence\n",
    "3. Implement feature to website that allows users to check box if service is reachable"
   ]
  },
  {
   "cell_type": "markdown",
   "id": "ac0cda90",
   "metadata": {},
   "source": []
  }
 ],
 "metadata": {
  "kernelspec": {
   "display_name": "Python 3",
   "language": "python",
   "name": "python3"
  },
  "language_info": {
   "codemirror_mode": {
    "name": "ipython",
    "version": 3
   },
   "file_extension": ".py",
   "mimetype": "text/x-python",
   "name": "python",
   "nbconvert_exporter": "python",
   "pygments_lexer": "ipython3",
   "version": "3.12.1"
  }
 },
 "nbformat": 4,
 "nbformat_minor": 5
}
